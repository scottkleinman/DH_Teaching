{
 "metadata": {
  "name": "",
  "signature": "sha256:01cc6dd7a3cc2350a3d5316d24436fd7dfd1cf87c92aaed17a0fd08518d8f07a"
 },
 "nbformat": 3,
 "nbformat_minor": 0,
 "worksheets": [
  {
   "cells": [
    {
     "cell_type": "markdown",
     "metadata": {},
     "source": [
      "# A Very Brief Introduction to Python\n",
      "This document is not a Python tutorial but a quick introduction to the basic concepts and terms you need to learn Python. You can do some pretty powerful stuff quite easily by copying other people's code, but you'll need to have an idea of what you are looking at if you want to catch mistakes or adapt the code for your own purposes. Once you've read through this material, you should be able to understand online tutorials discussions. If you want to learn from a tutorial, I recommend [Learn Python the Hard Way](http://learnpythonthehardway.org/book/) (the bit about \"the hard way\" is ironic--it's very easy).\n",
      "\n",
      "### How to Use this Document\n",
      "This is an interactive iPython Notebook, in which you can modify and run the code samples provided. To do this click on the cell containing the code. Modify it in any way you wish, and then type `Shift+Enter` to run the code. The iPython Notebook will indicate the code you ran with `In [1]` and the code result with `Out[1]`. The number indicates the number times you have executed a code block. \n",
      "\n",
      "### Scripts\n",
      "In computer programming, there is no clear distinction between and a script. Typically the latter has a smaller, less elaborate code base than the former. In the Digital Humanities, you'll hear about practioners writing scripts accomplish certain tasks. If the code is an integrated set of functions or is accompanied by a web-based or graphic user interface (GUI), it is more likely to be referred to as a tool. The term \"app\" has not yet caught on in this area of practice. \n",
      "\n",
      "### Python packages\n",
      "Python has a base library of functions, which can be extended by importing packages. Packages are libraries of functions created by third parties for specific taks, but some of these tasks are so common that the packages used for them are ubiqitous in Python scripts. Packages have to be downloaded and installed in Python, after which they are generally imported with the command `import PACKAGE_NAME`. Python \"distributions\" like Anaconda come with many common packages pre-installed.\n",
      "\n",
      "### Comments\n",
      "In coding, a comment is an explanation of the purpose of the code which is meant to be read by humans. It is not processed by the computer. Commenting code is a good practice because it helps others understand what your code is doing. In Python, comments are preceded by the `#` character.\n",
      "\n",
      "Commenting is also useful for testing and debugging code. If you have want the computer to skip some code, you can \"comment it out\" and then \"uncomment it\" when you want to re-activate the code. Try it in the following examples. You can add and remove `#` to comment and uncomment particular lines."
     ]
    },
    {
     "cell_type": "code",
     "collapsed": false,
     "input": [
      "# The first two lines are real comments for humans; they don't \n",
      "# contain Python code. If you uncomment them, you'll get an error.\n",
      "\n",
      "print(\"Hello world.\")\n",
      "#print(\"Nice to meet you.\")"
     ],
     "language": "python",
     "metadata": {},
     "outputs": []
    },
    {
     "cell_type": "markdown",
     "metadata": {},
     "source": [
      "### Data Types\n",
      "Some functions can only be used on certain types of content. In Python, some of the most common types of content are *numbers*, *strings*, *lists*, and *dictionaries* (also known as \"dicts\"). Content is defined as one content type or the other the use of different delimiter symbols:\n",
      "\n",
      "* numbers: no delimiters (e.g. `100`)\n",
      "* strings: enclosed in apostrophes or quotation marks (e.g. `'John'` or `\"John\"`). Word processor style smart quotes or curly quotes cannot be used as string delimiters and will be interpreted as part of the string.\n",
      "* lists: enclosed in square brackets (e.g. `[1, 2]` or `['Jack', 'Jill']`).\n",
      "* dicts: enclosed in curly brackets (e.g. {'Jack': 1})."
     ]
    },
    {
     "cell_type": "markdown",
     "metadata": {},
     "source": [
      "### Strings\n",
      "Strings contain alphanumeric data--that is, either numbers or letters, as well as punctuation marks. Quotation marks inside of apostrophe delimiters will be interpreted as part of the string, as will apostrophes inside quotation mark delimiters. For example, you could encode the sentence *He said, \"We are ready.\"* as `'He said, \"We are ready.\"'` The sentence *We're ready.* could be encoded `\"We're ready.\"` But for *He said, \"We're ready.\"* you would probably have to \"escape\" one the punctuation marks. The easiest method would be like this: `'He said, \"We\\'re ready.\"'` The backslash before the apostrophe tells Python not to interpret it as a string delimiter.\n",
      "\n",
      "Try this out in the cell below. Click on the cell, and then type `Shift+Enter` to see the output. Click on the cell again, change the code to one of the other options, and type `Shift+Enter` again. Feel free to experiment."
     ]
    },
    {
     "cell_type": "code",
     "collapsed": false,
     "input": [
      "'He said, \"We are ready.\"'"
     ],
     "language": "python",
     "metadata": {},
     "outputs": []
    },
    {
     "cell_type": "markdown",
     "metadata": {},
     "source": [
      "### Numbers\n",
      "Various types of numbers are recognised by Python. The most important types are floating points, which can have decimal points, and integers, which cannot. There functions to convert one to the other.\n",
      "\n",
      "### Lists\n",
      "Lists are comma-separated items belonging to other data types such as numbers or strings, as in the examples above. You can also have lists of dictionaries, or even lists of lists. You can reference items in a list by a number in square brackets. For instance, if you had a list called `myList`, you could get the first item in the list with `myList[0]`. This also illustrates the fact that Python starts counting from 0, rather than 1. Try it in the following example:"
     ]
    },
    {
     "cell_type": "code",
     "collapsed": false,
     "input": [
      "myList = ['lions', 'tigers','bears', 'oh my']\n",
      "myList[0]"
     ],
     "language": "python",
     "metadata": {},
     "outputs": []
    },
    {
     "cell_type": "markdown",
     "metadata": {},
     "source": [
      "Note that strings are really lists of characters. You can see this if you try the following code:"
     ]
    },
    {
     "cell_type": "code",
     "collapsed": false,
     "input": [
      "string = \"Hello\"\n",
      "string[0]"
     ],
     "language": "python",
     "metadata": {},
     "outputs": []
    },
    {
     "cell_type": "markdown",
     "metadata": {},
     "source": [
      "## Bonus points for teaching yourself\n",
      "There are ways to get a \"slice\" of a list such as just the first three items of myList (lions, tigers, bears), or the first three characters of a string such as \"Hel\". Can you find out how to do this by searching Google?"
     ]
    },
    {
     "cell_type": "markdown",
     "metadata": {},
     "source": [
      "### Dictionaries\n",
      "Dictionaries are like lists, except that each item is a key-value pair (separated by a colon). A common use of dictionaries is to contain word counts. Consider this list of dictionaries: `[{'Jack': 1}, {'Jill': 2}]`. This might be used to indicate that the word \"Jack\" occurs once and the word \"Jill\" occurs twice.\n",
      "\n",
      "### Concatenation\n",
      "Two strings can be combined, or **concatenated**, with the use of the `+` sign. Numbers cannot be concatenated with string unless you first \"cast\" them as a string with the `str()` function. Two lists can also be combined through concatenation. For instance, `[1, 2, 3] + [4, 5, 6]` would produce `[1, 2, 3, 4, 5, 6]`. You can test this by running the code below. You can comment out the first line and uncomment the other two in order to try different examples."
     ]
    },
    {
     "cell_type": "code",
     "collapsed": false,
     "input": [
      "\"John \" + \"Smith\"\n",
      "#\"John \" + \"Smith\" + str(1)\n",
      "#[1, 2, 3] + [4, 5, 6]"
     ],
     "language": "python",
     "metadata": {},
     "outputs": []
    },
    {
     "cell_type": "markdown",
     "metadata": {},
     "source": [
      "### Variables\n",
      "A variable is a container for some data of any type. This container is referenced by a label or variable name. Content is assigned to a variable using the `=` sign. For instance,in the code below, `firstname = \"John\"` assigns the string `\"John\"` to the variable `firstname` and the string `\"Smith\"` to the variable `firstname`. The third line concatenates the variable (putting a string with a space in between). Test it out."
     ]
    },
    {
     "cell_type": "code",
     "collapsed": false,
     "input": [
      "firstname = \"John\"\n",
      "lastname = \"Smith\"\n",
      "firstname + \" \" + lastname"
     ],
     "language": "python",
     "metadata": {},
     "outputs": []
    },
    {
     "cell_type": "markdown",
     "metadata": {},
     "source": [
      "In some cases, you have to create the variable before you assign a value to it. For instance, you might create an empty list like `myList = []`.\n",
      "\n",
      "### Functions\n",
      "A function is a command to do something with one of the data types and produce a result. Functions are identified by function names followed by parentheses. We have seen an example above of the `str()` function, which converts a number like 1 to a string. Notice that you place the item you wish to convert to a string inside the parentheses. The value in parentheses is called the *argument*. You can use a variable as the argument of a function. Try it below by uncommenting the line with the string function."
     ]
    },
    {
     "cell_type": "code",
     "collapsed": false,
     "input": [
      "myvar = 1\n",
      "myvar\n",
      "#str(myvar)"
     ],
     "language": "python",
     "metadata": {},
     "outputs": []
    },
    {
     "cell_type": "markdown",
     "metadata": {},
     "source": [
      "In iPython Notebook the output is by default the last line. That means you have to comment and uncomment lines to see the alternatives. A way around this is to use the `print()` function which we saw briefly in the section on comments. If you use this function for both alternatives, iPython Notebook will display them both. Let's try it again:"
     ]
    },
    {
     "cell_type": "code",
     "collapsed": false,
     "input": [
      "myvar = 1\n",
      "print(myvar)\n",
      "print(str(myvar))\n",
      "print(str(myvar)+ \" kitty\")\n",
      "#print(myvar + \" kitty\")"
     ],
     "language": "python",
     "metadata": {},
     "outputs": []
    },
    {
     "cell_type": "markdown",
     "metadata": {},
     "source": [
      "You might notice that iPython Notebook does not seem to preserve the quotation marks around the version that is a string. The third line concatenates it with another string just to prove that's what we've got (recall that you can't concatenate numbers with strings. To test this, you can uncomment the last line and see the error.\n",
      "\n",
      "Another important observation we can make from this is that we are not actuall changing the original value of `myvar`. It stays a number every time we reference it, so we always have to use the `str()` function if we want it to be a string. There is a way around this. If we don't need `myvar` to be a number any more, we can re-write it as a string:"
     ]
    },
    {
     "cell_type": "code",
     "collapsed": false,
     "input": [
      "myvar = 1\n",
      "print(myvar)\n",
      "myvar = str(myvar)\n",
      "print(myvar + \" kitty\")"
     ],
     "language": "python",
     "metadata": {},
     "outputs": []
    },
    {
     "cell_type": "markdown",
     "metadata": {},
     "source": [
      "Another example is the `append()` function, which adds an item to a list. For instance, you could add the number 1 to the `myList` created above:"
     ]
    },
    {
     "cell_type": "code",
     "collapsed": false,
     "input": [
      "myList = []\n",
      "myList.append(1)\n",
      "print(myList)\n",
      "\n",
      "myvar = 2\n",
      "myList.append(myvar)\n",
      "print(myList)"
     ],
     "language": "python",
     "metadata": {},
     "outputs": []
    },
    {
     "cell_type": "markdown",
     "metadata": {},
     "source": [
      "As mentioned earlier, Python has a set of built-in functions like `str()` and `append()`, and more functions can be imported from packages. However, sometimes you will want to define your own. Here's a small script to show how this is done."
     ]
    },
    {
     "cell_type": "code",
     "collapsed": false,
     "input": [
      "myList = []\n",
      "\n",
      "def addToList(item):\n",
      "    item = str(item)\n",
      "    myList.append(item)\n",
      "    print(myList)\n",
      "\n",
      "addToList('John')\n",
      "addToList(1)"
     ],
     "language": "python",
     "metadata": {},
     "outputs": []
    },
    {
     "cell_type": "markdown",
     "metadata": {},
     "source": [
      "The script starts with an empty list. It then defines a function called `addToList()`. Finally, it \"calls\" the function, first using the name John and then again using the number 1. Since these belong to different data types, we might want to ensure that every item in our list is a string. So within the function, we call use the `str()` function to cast the item submitted as the function's argument to a string. Then we use the `append()` function to add it to the list. Finally, we print the result.\n",
      "\n",
      "We don't *have to* define a function for this; we could just repeat our string conversion and list appending code for each item, but calling them in a function avoids repeating code and keeps our code organised.\n",
      "\n",
      "It is useful to look at one more example:"
     ]
    },
    {
     "cell_type": "code",
     "collapsed": false,
     "input": [
      "def convertNumber(item):\n",
      "    item = str(item)\n",
      "    return item\n",
      "\n",
      "myNumericString = convertNumber(1)\n",
      "print(myNumericString)"
     ],
     "language": "python",
     "metadata": {},
     "outputs": []
    },
    {
     "cell_type": "markdown",
     "metadata": {},
     "source": [
      "This wins the award for the most pointless function ever. You can achieve the same result with `myNumericString = str(1)`. But the `convertNumber()` function does illustrate an important point. The result of a function can be \"returned\" to the main code block with the `return` command, and this can be assigned to a new variable.\n",
      "\n",
      "### Indentation\n",
      "In Python, code that is part of a function must be indented by four spaces. Some editors may be set to treat a tab as equivalent to four spaces; this is something you can test. If you get the indentation wrong, you will receive an error. if you are used to other coding languages, it may take some time to get used to the fact that indentation matters in Python.\n",
      "\n",
      "### Loops\n",
      "A loop is a function that iterates through items in (typically) a list. Here is an example:"
     ]
    },
    {
     "cell_type": "code",
     "collapsed": false,
     "input": [
      "myList = [1, 2, 3]\n",
      "for item in myList:\n",
      "    item = \"item\" + str(item)\n",
      "    print(item)"
     ],
     "language": "python",
     "metadata": {},
     "outputs": []
    },
    {
     "cell_type": "markdown",
     "metadata": {},
     "source": [
      "The \"for\" loop goes through each number in the list, concatenates it with the string `\"item\"` after first converting the number to a string, and then prints the result.\n",
      "\n",
      "Python has more specialised methods of looping through lists. For instance, lists are like dictionaries in that they are composed of key-value pairs. You don't normally see the key because it's just a number from 0 to *n* indicating the order of the items in your list. But there might be times when you want to, say print the key and value together. For a list, the `enumerate()` function will work. For dictionaries, you can use `items()`. Try playing with the follwing samples."
     ]
    },
    {
     "cell_type": "code",
     "collapsed": false,
     "input": [
      "myList = [\"one\", \"two\", \"three\"]\n",
      "for key, value in enumerate(myList):\n",
      "    print(str(key) + \": \" + value)"
     ],
     "language": "python",
     "metadata": {},
     "outputs": []
    },
    {
     "cell_type": "code",
     "collapsed": false,
     "input": [
      "myDict = {\"one\": 1, \"two\": 2}\n",
      "for key, value in myDict.items():\n",
      "    print(key + \": \" + str(value))"
     ],
     "language": "python",
     "metadata": {},
     "outputs": []
    },
    {
     "cell_type": "markdown",
     "metadata": {},
     "source": [
      "Oh dear! Did you get the output in an order you didn't want? There's a reason for that. Dictionaries don't preserve the order of their elements since the key is not necessarily something that can be sequenced. One way around the problem is to make each item a separate dictionary inside of a list."
     ]
    },
    {
     "cell_type": "code",
     "collapsed": false,
     "input": [
      "myList = [{\"one\": 1}, {\"two\": 2}, {\"three\": 3}, {\"four\": 4}]\n",
      "for item in myList:\n",
      "    for key, value in item.items():\n",
      "        print(key + \": \" + str(value))"
     ],
     "language": "python",
     "metadata": {},
     "outputs": []
    },
    {
     "cell_type": "markdown",
     "metadata": {},
     "source": [
      "Now that's what we want!"
     ]
    }
   ],
   "metadata": {}
  }
 ]
}