{
 "cells": [
  {
   "cell_type": "markdown",
   "metadata": {},
   "source": [
    "# Working with Texts"
   ]
  },
  {
   "cell_type": "markdown",
   "metadata": {},
   "source": [
    "## About this Tutorial\n",
    "This document is a re-writing of [DARIAH-DE's Working With Texts tutorial](https://de.dariah.eu/tatom/working_with_text.html). Basically, it is an attempt explain things for which I think beginners will need more detail and change the emphasis in places. Readers will find it valuable to compare the text and examples here with the original version."
   ]
  },
  {
   "cell_type": "markdown",
   "metadata": {},
   "source": [
    "## Some Concepts and Terminology\n",
    "A text is a string of characters that can be divided up into tokens. A *tokens* are strings of contiguous characters divided by some kind of boundary, frequently a space or punctuation mark. In English this boundary generally divides the token into words. It is also possible to use string length to divide a text into tokens. For Classical Chinese, for instance, it might be preferable to make every character a separate token. Once a text is divided into tokens, the tokens can be counted. Each countable token is called a *term*.\n",
    "\n",
    "From a processing point view, texts are made up of tokens and terms. A *token* is an identifiable unit in the text. Anything from individual characters, to words, to phrases can be a token. Tokens are sometimes called an *n-grams*, because they can be a strings of any length. Tokens consisting of single words or characters are unigrams, sequences of two words or characters are bi-grams. For literary text analysis word unigrams are typically treated as tokens. If we list the number of times each token is found in the text, we will have a list of words, each of which is different from all the others. These words are called *terms*. For instance, the phrase \"the cat in the hat\" has 5 tokens but 4 terms. We can express this nicely in Python:\n"
   ]
  },
  {
   "cell_type": "code",
   "execution_count": 5,
   "metadata": {
    "collapsed": false
   },
   "outputs": [
    {
     "name": "stdout",
     "output_type": "stream",
     "text": [
      "5\n"
     ]
    }
   ],
   "source": [
    "# The token list\n",
    "tokens = ['the', 'cat', 'in', 'the', 'hat']\n",
    "# Print the length (the number of items) in the tokens list\n",
    "print(len(tokens))"
   ]
  },
  {
   "cell_type": "code",
   "execution_count": 6,
   "metadata": {
    "collapsed": false
   },
   "outputs": [
    {
     "name": "stdout",
     "output_type": "stream",
     "text": [
      "4\n"
     ]
    }
   ],
   "source": [
    "# The term counts\n",
    "terms = {\"cat\": 1, \"hat\": 1, \"in\": 1, \"the\": 2}\n",
    "# Print the length (the number of items) in the terms dict\n",
    "print(len(terms))"
   ]
  },
  {
   "cell_type": "markdown",
   "metadata": {},
   "source": [
    "By using a Python list to represent the tokens, we capture the fact that a text is an ordered list of tokens. A Python dictionary doesn't preserve the original order of items, but for terms, the order doesn't matter (it's alphabetised in the example above). When produce a list of terms and their counts, we essentially turn the text into a \"bag of words\", in which their order of occurrence is lost.\n",
    "\n",
    "It is important to think about the implications of studying bags of words. In the process, relationship *between* words (in terms of grammar and/or proximity) will be lost. One way of addressing this problem is to treat tokens as n-grams. An *n-gram* is a token of variable length. If we use single characters or words as tokens, we are using a type of n-gram called a \"unigram\". But we could also make our tokens sequences of two characters or two words. These are called \"bi-grams\". We could also make the token boundary every third character or word, giving us \"tri-grams\". N-grams can be even bigger, in which case the notation tends to shift towards numbers: 4-grams, 5-grams, etc. Although n-grams can be used to address some of the problems we might identify with using bags of unordered words, a great deal of literary text analysis is doen using word unigrams. This can be very effective, as we'll see from the examples below.\n",
    "\n",
    "A list of term frequencies can also be called a *vector*, borrowing a term from mathematics. Treating texts as vectors of term frequencies enables us to manipulate them using a range of Python functions designed for studying and manipulating vectors. We'll be using two important Python packages for this purpose, `numpy` and `scikit-learn`.\n",
    "\n",
    "Another important concept is the *document-term matrix* (or DTM). *Document* is a generic term for a textual unit, such as a novel, newspaper article, or poem, which we wish to study. It can also mean a segment of some larger unit. For instance, we might divide a novel into ten equal parts, each of which would be a separate document. We can organise our documents into rows, with each term in a separate column, as we would in a spreadsheet. This is the document-term matrix. Part of a DTM might look like this:\n",
    "\n",
    "|       | term1 | term2 | term3 |\n",
    "|-------|------:|------:|------:|\n",
    "| doc1  | 43    |  34   |   56  |\n",
    "| doc2  |  2    |  45   |   90  |\n",
    "| doc3  | 23    |  45   |   78  |\n",
    "\n",
    "The DTM allows us to compare term frequencies in the documents we are studying."
   ]
  },
  {
   "cell_type": "markdown",
   "metadata": {},
   "source": [
    "## Getting Some Data\n",
    "The DARIAH-DE tutorial provides a data set which can be downloaded by clicking the [datasets.zip](https://de.dariah.eu/tatom/_downloads/datasets.zip) link. Before proceeding, extract the zip file to a place you can remember. We will be using the small collection of novels by Jane Austen and Charlotte Brontë. Open the `data` folder and locate the `austen-brontë` folder. Change the `ë` to `e`. Check inside the folder--there may be further examples. Make sure you know the command-line path to the data folder. For instance, if you are on Windows, it might be `C:\\Users\\YOURNAME\\Desktop\\`. For you in a CSUN lab, replace `YOURNAME` with your CSUN ID.\n",
    "\n",
    "The reason we are removing the `ë` is that it is a [Unicode](https://en.wikipedia.org/wiki/Unicode) character, which may be handled differently by different version of Python. If we change it to `e`, we don't have to worry about this complication.\n"
   ]
  },
  {
   "cell_type": "markdown",
   "metadata": {},
   "source": [
    "## Preparing to Analyze Document Vectors\n",
    "The Python `numpy` package has a special data type that allows us to manipulate a DTM, so we'll begin by importing it (and assign it to the conventional alias alias `np`). We'll also import the `CountVectorizer` functions from `scikit-learn's` text feature extraction suite."
   ]
  },
  {
   "cell_type": "code",
   "execution_count": 2,
   "metadata": {
    "collapsed": false
   },
   "outputs": [],
   "source": [
    "import numpy as np\n",
    "from sklearn.feature_extraction.text import CountVectorizer"
   ]
  },
  {
   "cell_type": "markdown",
   "metadata": {},
   "source": [
    "We will use `CountVectorizer` both to load the texts and to construct a DTM from them. We'll start by constructing a list of filenames:"
   ]
  },
  {
   "cell_type": "code",
   "execution_count": 3,
   "metadata": {
    "collapsed": false
   },
   "outputs": [],
   "source": [
    "filenames = [\n",
    "    'C:/Users/Scott/Desktop/datasets/data/austen-bronte/Austen_Emma.txt',\n",
    "    'C:/Users/Scott/Desktop/datasets/data/austen-bronte/Austen_Pride.txt',\n",
    "    'C:/Users/Scott/Desktop/datasets/data/austen-bronte/Austen_Sense.txt',\n",
    "    'C:/Users/Scott/Desktop/datasets/data/austen-bronte/CBronte_Jane.txt',\n",
    "    'C:/Users/Scott/Desktop/datasets/data/austen-bronte/CBronte_Professor.txt',\n",
    "    'C:/Users/Scott/Desktop/datasets/data/austen-bronte/CBronte_Villette.txt'\n",
    "]"
   ]
  },
  {
   "cell_type": "markdown",
   "metadata": {},
   "source": [
    "Each item in the list is the path to the text file within the data folder you downloaded. You must supply the full path on your disk. For instance, if you are using Windows, it might be `C:\\Users\\YOURNAME\\Desktop\\`. Go ahead and add this to each of the file paths. If you are using Windows, you can change the back slashes to forward slashes. iPython Notebook will still find your files. Do this before continuing. And, remember, each of the items in this list is a string, so it must be fully enclosed in apostrophes quotation marks.\n",
    "\n",
    "Now we'll create a `CountVectorizer` object and tell it that the input will be a file name. We'll assign this to the variable `vectorizer` for short. Next we'll feed each of the files in the `filenames` list into the vectorizer and use the `fit_transform()` function to convert it to a sparse matrix (one in which the count for most terms is 0). We'll assign to a variable called `dtm`. Finally, we'll use the `get_feature_names()` function to get a list of the terms."
   ]
  },
  {
   "cell_type": "code",
   "execution_count": 4,
   "metadata": {
    "collapsed": false
   },
   "outputs": [],
   "source": [
    "vectorizer = CountVectorizer(input='filename')\n",
    "dtm = vectorizer.fit_transform(filenames)\n",
    "terms = vectorizer.get_feature_names()\n",
    "\n",
    "dtm = dtm.toarray()  # convert the sparse matrix to a numpy array\n",
    "terms = np.array(terms) # Do the same with the terms list"
   ]
  },
  {
   "cell_type": "markdown",
   "metadata": {},
   "source": [
    "The last two lines convert our dtm and terms list to numpy arrays, which make it possible to query them for the frequencies of individual terms. Let's try this. Assume that we want to find the frequency of the word \"house\" in *Emma*. This is the 0th text in our filenames list (you can confirm this with `print(filenames[0]))`). We next construct an index for the word \"house\"."
   ]
  },
  {
   "cell_type": "code",
   "execution_count": 4,
   "metadata": {
    "collapsed": false
   },
   "outputs": [
    {
     "name": "stdout",
     "output_type": "stream",
     "text": [
      "95\n",
      "95\n"
     ]
    }
   ],
   "source": [
    "house_idx = list(terms).index('house')\n",
    "house_count = dtm[0, house_idx]\n",
    "print(house_count)\n",
    "\n",
    "# An alternative approach\n",
    "house_count = dtm[0, terms == 'house'][0]\n",
    "print(house_count)"
   ]
  },
  {
   "cell_type": "markdown",
   "metadata": {},
   "source": [
    "The first method above fetches a list of the terms in our DTM and finds the key, or index, of \"house\" in the list. With that information, we can supply it with the index of *Emma* (0) to find the count for \"house\" in that text. The second code block does the same thing with `numpy's` method of indexing. This returns a list containing first the answer we want and then some other information about the shape of the array. By adding the `[0]` index to the end, we can get Python to print only the first item. You can use which over of these two methods you find most intuitive.\n",
    "\n",
    "Just so we have a sense of what we have just created, here is a section of the document-term matrix for a handful of selected words:\n",
    "\n",
    "|                     |and  |emma |home |house|of  |the |\n",
    "|:--------------------|----:|----:|----:|----:|---:|---:|\n",
    "|Austen_Emma.txt      |4896 |865  |130  |95   |4291|5201|\n",
    "|Austen_Pride.txt     |3584 |0    |66   |107  |3609|4330|\n",
    "|Austen_Sense.txt     |3491 |0    |69   |161  |3572|4105|\n",
    "|CBronte_Jane.txt     |6626 |0    |80   |182  |4364|7846|\n",
    "|CBronte_Professor.txt|2936 |0    |37   |93   |2663|3836|\n",
    "|CBronte_Villette.txt |6374 |0    |121  |129  |4845|8363|"
   ]
  },
  {
   "cell_type": "markdown",
   "metadata": {},
   "source": [
    "## Comparing Texts\n",
    "Since each row of the document-term matrix is a sequence of a novel's word frequencies, it is possible to put mathematical notions of similarity (or distance) between sequences of numbers in service of calculating the similarity (or distance) between any two novels. One frequently used measure of distance between vectors (a measure easily converted into a measure of similarity) is Euclidean distance. Imagine two document vectors as straight lines starting from the bottom left of a graph. If you draw a straight line connecting the two vectors and measure it, you have the Euclidean distance. Since `scikit-learn` has some built-in functions for calculating Euclidean distances, we'll go ahead and import it."
   ]
  },
  {
   "cell_type": "code",
   "execution_count": 5,
   "metadata": {
    "collapsed": false
   },
   "outputs": [
    {
     "data": {
      "text/plain": [
       "array([[    0. ,  3856.3,  4182.8,  5119.7,  7113.3,  5280.2],\n",
       "       [ 3856.3,     0. ,  1922.6,  6313.1,  4126.2,  6381.2],\n",
       "       [ 4182.8,  1922.6,     0. ,  6657.4,  4045.3,  6650.3],\n",
       "       [ 5119.7,  6313.1,  6657.4,     0. ,  8363.8,  2591.5],\n",
       "       [ 7113.3,  4126.2,  4045.3,  8363.8,     0. ,  8484.1],\n",
       "       [ 5280.2,  6381.2,  6650.3,  2591.5,  8484.1,     0. ]])"
      ]
     },
     "execution_count": 5,
     "metadata": {},
     "output_type": "execute_result"
    }
   ],
   "source": [
    "from sklearn.metrics.pairwise import euclidean_distances\n",
    "dist = euclidean_distances(dtm)\n",
    "np.round(dist, 1)"
   ]
  },
  {
   "cell_type": "markdown",
   "metadata": {},
   "source": [
    "Here we are creating a new distance matrix (also called a \"dissimilarity matrix\") from out DTM. It tells us the distances between each of our document vectors. The calculated results are likely to have lots of decimal places, so the last line just uses a `numpy` function to round the numbers to one decimal places. You can see this in the result.\n",
    "\n",
    "In our list of novels, *Pride and Prejudice* is index 1 and *Jane Eyre* is index 3. We can compare their distances by querying our distance matrix:"
   ]
  },
  {
   "cell_type": "code",
   "execution_count": 10,
   "metadata": {
    "collapsed": false
   },
   "outputs": [
    {
     "data": {
      "text/plain": [
       "6313.0833987838305"
      ]
     },
     "execution_count": 10,
     "metadata": {},
     "output_type": "execute_result"
    }
   ],
   "source": [
    "# Distance between Pride and Prejudice and Jane Eyre\n",
    "dist[1, 3]"
   ]
  },
  {
   "cell_type": "markdown",
   "metadata": {},
   "source": [
    "Try comparing some of the other novels. What can the Euclidean distances tell you about the novels?\n",
    "\n",
    "Another common measure used for comparing texts is Cosine similarity, which works by measuring the angle between the two document vectors. If you want to try this, you can get the code from lines 24-28 of the [original tutorial](https://de.dariah.eu/tatom/working_with_text.html). We will use Euclidean distance for the visualisation and clustering techniques we learn below."
   ]
  },
  {
   "cell_type": "markdown",
   "metadata": {},
   "source": [
    "## Visualising Document Distances\n",
    "What if we want to compare all the texts at once? If you compared the distances of all the novels, you might have done this, but the implications of the numbers can sometimes be hard to interpret. This is where visualisatio can be useful. If we interpret these distances as x and y coordinates on a graph, we can plot how far apart texts are. A general approach to visualizing distances is to assign a point in a plane to each text, making sure that the distance between points is proportional to the pairwise distances we calculated. This kind of visualization is common enough that it has a name, \"multidimensional scaling (MDS) and family of functions in `scikit-learn`.\n",
    "\n",
    "Before we start, we need to take care of a problem will encounter in creating a graph. Right now, our texts are take the form of long path names. We really want something shorter for use as labels in the graph. So we'll create a list of short labels:"
   ]
  },
  {
   "cell_type": "code",
   "execution_count": 6,
   "metadata": {
    "collapsed": false
   },
   "outputs": [],
   "source": [
    "labels = [\n",
    "    'Austen_Emma',\n",
    "    'Austen_Pride',\n",
    "    'Austen_Sense',\n",
    "    'CBronte_Jane',\n",
    "    'CBronte_Professor',\n",
    "    'CBronte_Villette'\n",
    "]\n",
    "\n",
    "from sklearn.manifold import MDS\n",
    "import matplotlib.pyplot as plt"
   ]
  },
  {
   "cell_type": "markdown",
   "metadata": {},
   "source": [
    "We've also inmported `scikit-learn's` MDS functions and the `maplotlib` plotting library (conventionally) referenced as `plt`. The following two lines will create a matrix of positions. A few explanations are given in comments, but don't worry too much about the details."
   ]
  },
  {
   "cell_type": "code",
   "execution_count": 7,
   "metadata": {
    "collapsed": false
   },
   "outputs": [],
   "source": [
    "# two components as we're plotting points in a two-dimensional plane\n",
    "# \"precomputed\" because we provide a distance matrix\n",
    "# we will also specify `random_state` so the plot is reproducible.\n",
    "mds = MDS(n_components=2, dissimilarity=\"precomputed\", random_state=1)\n",
    "pos = mds.fit_transform(dist)  # shape (n_components, n_samples)\n",
    "xs, ys = pos[:, 0], pos[:, 1]"
   ]
  },
  {
   "cell_type": "markdown",
   "metadata": {},
   "source": [
    "Now we're ready to plot our graph (which will open in another window). The code below creates a scatter plot. By default, the dots on the graph will be sky blue, but the colour is set to orange if the label contains the string \"Austen\"."
   ]
  },
  {
   "cell_type": "code",
   "execution_count": null,
   "metadata": {
    "collapsed": true
   },
   "outputs": [],
   "source": [
    "# color-blind-friendly palette\n",
    "for x, y, label in zip(xs, ys, labels):\n",
    "    color = 'orange' if \"Austen\" in label else 'skyblue'\n",
    "    plt.scatter(x, y, c=color)\n",
    "    plt.text(x, y, label)\n",
    "plt.show()"
   ]
  },
  {
   "cell_type": "markdown",
   "metadata": {},
   "source": [
    "Check out the [original tutorial](https://de.dariah.eu/tatom/working_with_text.html) for a way to plot the graph in 3D (but note that we have changed some of the variable names here, so you'll have to adjust the code.)"
   ]
  },
  {
   "cell_type": "markdown",
   "metadata": {},
   "source": [
    "## Cluster Analysis\n",
    "Clustering texts into discrete groups of similar texts is often a useful exploratory step. For example, a researcher may be wondering if certain textual features partition a collection of texts by author or by genre. Pairwise distances alone do not produce any kind of classification. To put a set of distance measurements to work in classification requires additional assumptions, such as a definition of a group or cluster.\n",
    "\n",
    "The ideas underlying the transition from distances to clusters are, for the most part, common sense. Any clustering of texts should result in texts that are closer to each other (in the distance matrix) residing in the same cluster. There are many ways of satisfying this requirement; there no unique clustering based on distances that is the \"best\". For our example, we will use the average Euclidean distance between vectors to produce hierarchical groups of clusters. The algorithm for hierarchical clustering of texts is as follows:\n",
    "\n",
    "1. Start with each document in its own cluster.\n",
    "2. Until only a single cluster remains,\n",
    "   * Find the closest clusters and merge them. The distance between two clusters is the average of the nearest and furthest points in the vector.\n",
    "   * Return a tree containing a record of cluster-merges.\n",
    "\n",
    "Hierarchical clusterings can be visualised with a tree diagram called a dendrogram. In the code below, we use `scikit-learn's` hierarchical clustering functions to do the clustering."
   ]
  },
  {
   "cell_type": "code",
   "execution_count": 8,
   "metadata": {
    "collapsed": false
   },
   "outputs": [
    {
     "data": {
      "text/plain": [
       "{'color_list': ['g', 'r', 'r', 'b', 'b'],\n",
       " 'dcoord': [[0.0, 3671.1208198335557, 3671.1208198335557, 0.0],\n",
       "  [0.0, 2774.3294598100611, 2774.3294598100611, 0.0],\n",
       "  [0.0, 7025.0805232011444, 7025.0805232011444, 2774.3294598100611],\n",
       "  [0.0, 8631.0583281124582, 8631.0583281124582, 7025.0805232011444],\n",
       "  [3671.1208198335557,\n",
       "   11560.953124438209,\n",
       "   11560.953124438209,\n",
       "   8631.0583281124582]],\n",
       " 'icoord': [[5.0, 5.0, 15.0, 15.0],\n",
       "  [45.0, 45.0, 55.0, 55.0],\n",
       "  [35.0, 35.0, 50.0, 50.0],\n",
       "  [25.0, 25.0, 42.5, 42.5],\n",
       "  [10.0, 10.0, 33.75, 33.75]],\n",
       " 'ivl': ['CBronte_Jane',\n",
       "  'CBronte_Villette',\n",
       "  'CBronte_Professor',\n",
       "  'Austen_Emma',\n",
       "  'Austen_Pride',\n",
       "  'Austen_Sense'],\n",
       " 'leaves': [3, 5, 4, 0, 1, 2]}"
      ]
     },
     "execution_count": 8,
     "metadata": {},
     "output_type": "execute_result"
    }
   ],
   "source": [
    "from scipy.cluster.hierarchy import average, dendrogram\n",
    "\n",
    "linkage_matrix = average(dist)\n",
    "dendrogram(linkage_matrix, orientation=\"right\", labels=labels)"
   ]
  },
  {
   "cell_type": "markdown",
   "metadata": {},
   "source": [
    "You should see a dictionary containing the numbers used to create the dendrogram. Let's go ahead and plot it. Make sure that you have closed the window for any previous graphs you have created."
   ]
  },
  {
   "cell_type": "code",
   "execution_count": 9,
   "metadata": {
    "collapsed": false
   },
   "outputs": [],
   "source": [
    "plt.tight_layout()  # fixes margins\n",
    "plt.show()"
   ]
  },
  {
   "cell_type": "markdown",
   "metadata": {},
   "source": [
    "Close the graph window, and let's try that one more time. You might find this orientation easier to interpret."
   ]
  },
  {
   "cell_type": "code",
   "execution_count": 10,
   "metadata": {
    "collapsed": false
   },
   "outputs": [],
   "source": [
    "dendrogram(linkage_matrix, orientation=\"top\", labels=labels)\n",
    "plt.tight_layout()  # fixes margins\n",
    "plt.show()"
   ]
  },
  {
   "cell_type": "markdown",
   "metadata": {},
   "source": [
    "You can learn how to interpret dendrograms by watching [How to Read a Dendrogram](https://www.youtube.com/watch?v=MX6AUX1b1w0). Alternatively, running the code below will embed the video in this iPython notebook."
   ]
  },
  {
   "cell_type": "code",
   "execution_count": 14,
   "metadata": {
    "collapsed": false
   },
   "outputs": [
    {
     "data": {
      "text/html": [
       "\n",
       "        <iframe\n",
       "            width=\"400\"\n",
       "            height=300\"\n",
       "            src=\"https://www.youtube.com/embed/MX6AUX1b1w0\"\n",
       "            frameborder=\"0\"\n",
       "            allowfullscreen\n",
       "        ></iframe>\n",
       "        "
      ],
      "text/plain": [
       "<IPython.lib.display.YouTubeVideo at 0x18d047b8>"
      ]
     },
     "execution_count": 14,
     "metadata": {},
     "output_type": "execute_result"
    }
   ],
   "source": [
    "from IPython.display import YouTubeVideo\n",
    "YouTubeVideo(\"MX6AUX1b1w0\")"
   ]
  },
  {
   "cell_type": "markdown",
   "metadata": {},
   "source": [
    "The iPython `show()` command opens matplotlib in a nice viewer that allows use to save the image and do some zooming. The Python ETE package also has a viewer with some useful functions for studying dendrograms, in particular, the ability to separate overlapping labels. In order to use it, you must save the tree created by scipy to an ETE tree structure and then load it into ETE (which you must first install from the command line using `pip install ete2`)."
   ]
  },
  {
   "cell_type": "code",
   "execution_count": 10,
   "metadata": {
    "collapsed": false
   },
   "outputs": [],
   "source": [
    "#ete2 section\n",
    "root = Tree()\n",
    "root.dist = 0\n",
    "root.name = \"root\"\n",
    "item2node = {T: root}\n",
    "\n",
    "to_visit = [T]\n",
    "while to_visit:\n",
    "    node = to_visit.pop()\n",
    "    cl_dist = node.dist /2.0\n",
    "    for ch_node in [node.left, node.right]:\n",
    "        if ch_node:\n",
    "            ch = Tree()\n",
    "            ch.dist = cl_dist\n",
    "            ch.name = str(ch_node.id)\n",
    "            item2node[node].add_child(ch)\n",
    "            item2node[ch_node] = ch\n",
    "            to_visit.append(ch_node)\n",
    "\n",
    "# This is your ETE tree structure\n",
    "tree = root\n",
    "\n",
    "# Replace the node labels\n",
    "for leaf in tree:\n",
    "    k = leaf.name\n",
    "    k = int(k)\n",
    "    leaf.name = labels[k]\n",
    "\n",
    "from scipy.cluster.hierarchy import linkage, to_tree\n",
    "from ete2 import Tree, TreeStyle, NodeStyle\n",
    "\n",
    "T = to_tree(linkage_matrix)\n",
    "\n",
    "ts = TreeStyle()\n",
    "ts.show_leaf_name = True\n",
    "ts.show_branch_length = True\n",
    "ts.show_scale = False\n",
    "ts.scale =  None\n",
    "\n",
    "# Draws nodes as small red spheres of diameter equal to 10 pixels\n",
    "nstyle = NodeStyle()\n",
    "nstyle[\"size\"] = 0\n",
    "\n",
    "\n",
    "# Apply node styles to nodes\n",
    "for n in tree.traverse():\n",
    "   n.set_style(nstyle)\n",
    "\n",
    "# Show the tree in the viewer\n",
    "tree.show()\n",
    "\n",
    "# Uncomment and adjust the filename to save the image\n",
    "#tree.render(\"mytree.png\", w=600, units=\"px\")"
   ]
  },
  {
   "cell_type": "markdown",
   "metadata": {
    "collapsed": false
   },
   "source": [
    "You can also convert an ETE tree structure to Newick format for display in other tools. The code below will convert your tree to Newick format and print the Newick string. You can copy and paste it into tools like [EvolView](http://www.evolgenius.info/evolview/#mytrees//). The ETE viewer will also output the tree as a Newick string."
   ]
  },
  {
   "cell_type": "code",
   "execution_count": null,
   "metadata": {
    "collapsed": true
   },
   "outputs": [],
   "source": [
    "# Convert the ETE tree to Newick\n",
    "newick = tree.write()\n",
    "print(newick)"
   ]
  }
 ],
 "metadata": {
  "kernelspec": {
   "display_name": "Python 2",
   "language": "python",
   "name": "python2"
  },
  "language_info": {
   "codemirror_mode": {
    "name": "ipython",
    "version": 2
   },
   "file_extension": ".py",
   "mimetype": "text/x-python",
   "name": "python",
   "nbconvert_exporter": "python",
   "pygments_lexer": "ipython2",
   "version": "2.7.10"
  }
 },
 "nbformat": 4,
 "nbformat_minor": 0
}
